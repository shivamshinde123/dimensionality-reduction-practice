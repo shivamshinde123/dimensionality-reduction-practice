{
 "cells": [
  {
   "cell_type": "markdown",
   "id": "53964025",
   "metadata": {},
   "source": [
    "**One problem with the preceeding implementations of PCA is that they require the whole training set to fit in memory in order for the algorithm to run. Fortunately, Incremental PCA algorithms have been developed. They allow you to split the training set into mini-batches and feed an IPCA algorithm one mini-batch at a time. This is useful for large training sets and for applying PCA online**"
   ]
  },
  {
   "cell_type": "code",
   "execution_count": 1,
   "id": "3ececd93",
   "metadata": {},
   "outputs": [],
   "source": [
    "import pandas as pd\n",
    "import numpy as np\n",
    "%matplotlib inline"
   ]
  },
  {
   "cell_type": "code",
   "execution_count": 2,
   "id": "b397128f",
   "metadata": {},
   "outputs": [],
   "source": [
    "import warnings\n",
    "warnings.filterwarnings('ignore')"
   ]
  },
  {
   "cell_type": "code",
   "execution_count": 3,
   "id": "80a6b378",
   "metadata": {},
   "outputs": [],
   "source": [
    "df = pd.read_csv('iris.csv')"
   ]
  },
  {
   "cell_type": "code",
   "execution_count": 4,
   "id": "f8f5125a",
   "metadata": {},
   "outputs": [],
   "source": [
    "df.drop('Id',axis=1,inplace=True)"
   ]
  },
  {
   "cell_type": "code",
   "execution_count": 5,
   "id": "86839e1c",
   "metadata": {},
   "outputs": [
    {
     "data": {
      "text/html": [
       "<div>\n",
       "<style scoped>\n",
       "    .dataframe tbody tr th:only-of-type {\n",
       "        vertical-align: middle;\n",
       "    }\n",
       "\n",
       "    .dataframe tbody tr th {\n",
       "        vertical-align: top;\n",
       "    }\n",
       "\n",
       "    .dataframe thead th {\n",
       "        text-align: right;\n",
       "    }\n",
       "</style>\n",
       "<table border=\"1\" class=\"dataframe\">\n",
       "  <thead>\n",
       "    <tr style=\"text-align: right;\">\n",
       "      <th></th>\n",
       "      <th>SepalLengthCm</th>\n",
       "      <th>SepalWidthCm</th>\n",
       "      <th>PetalLengthCm</th>\n",
       "      <th>PetalWidthCm</th>\n",
       "      <th>Species</th>\n",
       "    </tr>\n",
       "  </thead>\n",
       "  <tbody>\n",
       "    <tr>\n",
       "      <th>0</th>\n",
       "      <td>5.1</td>\n",
       "      <td>3.5</td>\n",
       "      <td>1.4</td>\n",
       "      <td>0.2</td>\n",
       "      <td>Iris-setosa</td>\n",
       "    </tr>\n",
       "    <tr>\n",
       "      <th>1</th>\n",
       "      <td>4.9</td>\n",
       "      <td>3.0</td>\n",
       "      <td>1.4</td>\n",
       "      <td>0.2</td>\n",
       "      <td>Iris-setosa</td>\n",
       "    </tr>\n",
       "    <tr>\n",
       "      <th>2</th>\n",
       "      <td>4.7</td>\n",
       "      <td>3.2</td>\n",
       "      <td>1.3</td>\n",
       "      <td>0.2</td>\n",
       "      <td>Iris-setosa</td>\n",
       "    </tr>\n",
       "    <tr>\n",
       "      <th>3</th>\n",
       "      <td>4.6</td>\n",
       "      <td>3.1</td>\n",
       "      <td>1.5</td>\n",
       "      <td>0.2</td>\n",
       "      <td>Iris-setosa</td>\n",
       "    </tr>\n",
       "    <tr>\n",
       "      <th>4</th>\n",
       "      <td>5.0</td>\n",
       "      <td>3.6</td>\n",
       "      <td>1.4</td>\n",
       "      <td>0.2</td>\n",
       "      <td>Iris-setosa</td>\n",
       "    </tr>\n",
       "  </tbody>\n",
       "</table>\n",
       "</div>"
      ],
      "text/plain": [
       "   SepalLengthCm  SepalWidthCm  PetalLengthCm  PetalWidthCm      Species\n",
       "0            5.1           3.5            1.4           0.2  Iris-setosa\n",
       "1            4.9           3.0            1.4           0.2  Iris-setosa\n",
       "2            4.7           3.2            1.3           0.2  Iris-setosa\n",
       "3            4.6           3.1            1.5           0.2  Iris-setosa\n",
       "4            5.0           3.6            1.4           0.2  Iris-setosa"
      ]
     },
     "execution_count": 5,
     "metadata": {},
     "output_type": "execute_result"
    }
   ],
   "source": [
    "df.head()"
   ]
  },
  {
   "cell_type": "code",
   "execution_count": 6,
   "id": "809e45be",
   "metadata": {},
   "outputs": [],
   "source": [
    "X = df.drop('Species',axis=1)\n",
    "y = df['Species']"
   ]
  },
  {
   "cell_type": "code",
   "execution_count": 7,
   "id": "d0c05316",
   "metadata": {},
   "outputs": [],
   "source": [
    "from sklearn.model_selection import train_test_split\n",
    "\n",
    "X_train, X_test, y_train, y_test = train_test_split(X, y, random_state=333,test_size=0.33)"
   ]
  },
  {
   "cell_type": "code",
   "execution_count": 8,
   "id": "97deaec0",
   "metadata": {},
   "outputs": [],
   "source": [
    "## splitting the dataset into the 10 batches and then fitting each one of them partially one after another\n",
    "\n",
    "from sklearn.decomposition import IncrementalPCA\n",
    "n_batches = 10\n",
    "\n",
    "inc_pca = IncrementalPCA(n_components=2)\n",
    "\n",
    "for X_batch in np.array_split(X_train, n_batches):\n",
    "    inc_pca.partial_fit(X_batch)"
   ]
  },
  {
   "cell_type": "code",
   "execution_count": 9,
   "id": "7ddbf93b",
   "metadata": {},
   "outputs": [],
   "source": [
    "## transforming the data now\n",
    "X_reduced = inc_pca.transform(X_train)"
   ]
  },
  {
   "cell_type": "code",
   "execution_count": 10,
   "id": "ff9c7ce4",
   "metadata": {},
   "outputs": [
    {
     "data": {
      "text/plain": [
       "array([[ 1.65215756, -0.55094144],\n",
       "       [-3.14362109,  0.18251239],\n",
       "       [ 2.38852815, -0.20483744],\n",
       "       [ 3.31352675,  1.38598206],\n",
       "       [-2.92957136, -0.28830509],\n",
       "       [ 1.51300739, -0.10963533],\n",
       "       [-2.51893746, -0.13785188],\n",
       "       [ 0.58124775, -0.07766773],\n",
       "       [ 3.57321229,  0.50112415],\n",
       "       [-2.82116682, -0.51422765],\n",
       "       [-2.56406758,  1.2492356 ],\n",
       "       [ 0.20341035, -0.26499019],\n",
       "       [-2.46732484,  0.64029962],\n",
       "       [ 1.11561704,  0.28236335],\n",
       "       [-2.51764096,  0.29519592],\n",
       "       [ 1.00855641, -0.47930343],\n",
       "       [-2.54559075,  0.86380456],\n",
       "       [ 0.99019845, -0.14007698],\n",
       "       [ 1.26474574, -0.60851029],\n",
       "       [ 1.97653287,  0.11220879],\n",
       "       [ 2.91421535,  0.41809047],\n",
       "       [-2.13416604,  0.47425851],\n",
       "       [-2.65500653,  0.38306999],\n",
       "       [-2.60373321, -0.0392303 ],\n",
       "       [-0.64377391, -0.95858206],\n",
       "       [ 3.56870488,  1.16983656],\n",
       "       [ 2.68968139,  0.36542843],\n",
       "       [ 1.99580064,  0.42621547],\n",
       "       [-2.54175536,  0.06916833],\n",
       "       [-2.60373321, -0.0392303 ],\n",
       "       [ 2.42046883, -0.04059719],\n",
       "       [-0.00483554, -0.64955581],\n",
       "       [-2.64593774, -0.10001218],\n",
       "       [ 1.40330642,  0.30295792],\n",
       "       [-2.64672861, -0.17973142],\n",
       "       [-2.63218863,  0.17604978],\n",
       "       [ 1.5384183 ,  0.54944005],\n",
       "       [ 2.63632069,  0.2749617 ],\n",
       "       [-0.44978275, -1.20340697],\n",
       "       [ 1.29411102,  0.44916125],\n",
       "       [-2.43819747, -0.06877513],\n",
       "       [ 0.36618676, -0.31350738],\n",
       "       [ 0.65517258, -0.47958349],\n",
       "       [-2.43075783,  0.70934137],\n",
       "       [ 1.40971728, -0.76539111],\n",
       "       [ 1.84724232, -0.46956654],\n",
       "       [-2.61083355,  0.383105  ],\n",
       "       [ 0.05556056, -0.70059564],\n",
       "       [ 0.24549595, -0.77772221],\n",
       "       [ 0.29660295, -0.35289927],\n",
       "       [ 2.68929469,  0.58561377],\n",
       "       [-2.67765811, -0.25703303],\n",
       "       [ 1.45676851, -0.17286984],\n",
       "       [-2.20324423,  0.78819518],\n",
       "       [ 0.31440782, -0.24453564],\n",
       "       [ 0.44416743, -0.26340298],\n",
       "       [ 1.05414475, -0.09242521],\n",
       "       [ 0.58191964, -1.19118089],\n",
       "       [ 1.87145817, -0.19011496],\n",
       "       [-3.15787583, -0.44687814],\n",
       "       [ 1.00157499,  0.51654578],\n",
       "       [-2.33638765,  0.48096618],\n",
       "       [-2.55420797,  0.22615417],\n",
       "       [ 0.72830661, -0.3415    ],\n",
       "       [-2.69721106,  0.32228811],\n",
       "       [-2.7708507 , -0.16912394],\n",
       "       [ 2.23763384,  0.23391257],\n",
       "       [-0.12619831, -0.61997598],\n",
       "       [-2.23153332,  0.15635203],\n",
       "       [ 0.96095215, -0.00451613],\n",
       "       [-2.79575592,  0.14484773],\n",
       "       [ 1.48088285, -0.56656074],\n",
       "       [ 1.45885582, -0.2798213 ],\n",
       "       [ 1.00563076,  0.34884744],\n",
       "       [-0.68794689, -0.95861707],\n",
       "       [ 2.01585921,  0.20022289],\n",
       "       [-2.51228869,  0.56054538],\n",
       "       [ 0.30303134, -0.28143991],\n",
       "       [ 1.44668846, -0.39644479],\n",
       "       [ 0.52924843, -0.63563389],\n",
       "       [ 2.49252673,  0.29137641],\n",
       "       [ 2.2279405 , -0.20984772],\n",
       "       [ 1.36465204, -0.27885085],\n",
       "       [ 1.48088285, -0.56656074],\n",
       "       [-2.60373321, -0.0392303 ],\n",
       "       [ 2.34942219,  0.33408635],\n",
       "       [ 2.9948904 ,  0.76799597],\n",
       "       [ 1.36081658, -0.10393311],\n",
       "       [ 1.97643142,  0.05878479],\n",
       "       [-2.23676667,  0.46451646],\n",
       "       [ 0.32860857, -0.46948776],\n",
       "       [ 2.0206044 ,  0.0588198 ],\n",
       "       [-2.39706907,  0.18589685],\n",
       "       [ 1.15820827,  0.12295989],\n",
       "       [ 0.42686818, -0.01843805],\n",
       "       [-2.56311044, -0.13788689],\n",
       "       [-2.4624782 ,  0.55232052],\n",
       "       [ 3.86692589,  0.29327352],\n",
       "       [ 1.73459822,  0.25108768],\n",
       "       [-2.71828088, -0.15837644]])"
      ]
     },
     "execution_count": 10,
     "metadata": {},
     "output_type": "execute_result"
    }
   ],
   "source": [
    "X_reduced"
   ]
  },
  {
   "cell_type": "code",
   "execution_count": null,
   "id": "e6d334df",
   "metadata": {},
   "outputs": [],
   "source": []
  }
 ],
 "metadata": {
  "kernelspec": {
   "display_name": "Python 3 (ipykernel)",
   "language": "python",
   "name": "python3"
  },
  "language_info": {
   "codemirror_mode": {
    "name": "ipython",
    "version": 3
   },
   "file_extension": ".py",
   "mimetype": "text/x-python",
   "name": "python",
   "nbconvert_exporter": "python",
   "pygments_lexer": "ipython3",
   "version": "3.9.7"
  }
 },
 "nbformat": 4,
 "nbformat_minor": 5
}
